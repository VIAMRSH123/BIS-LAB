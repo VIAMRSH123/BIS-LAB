{
  "nbformat": 4,
  "nbformat_minor": 0,
  "metadata": {
    "colab": {
      "provenance": [],
      "authorship_tag": "ABX9TyP5z+BFnpgIdMHkbF96wEn2",
      "include_colab_link": true
    },
    "kernelspec": {
      "name": "python3",
      "display_name": "Python 3"
    },
    "language_info": {
      "name": "python"
    }
  },
  "cells": [
    {
      "cell_type": "markdown",
      "metadata": {
        "id": "view-in-github",
        "colab_type": "text"
      },
      "source": [
        "<a href=\"https://colab.research.google.com/github/VIAMRSH123/BIS-LAB/blob/main/Lab-1/BIS.ipynb\" target=\"_parent\"><img src=\"https://colab.research.google.com/assets/colab-badge.svg\" alt=\"Open In Colab\"/></a>"
      ]
    },
    {
      "cell_type": "markdown",
      "source": [],
      "metadata": {
        "id": "IUq4ETxgQluw"
      }
    },
    {
      "cell_type": "code",
      "execution_count": null,
      "metadata": {
        "id": "pQHx1SXzQdxe"
      },
      "outputs": [],
      "source": [
        "import random\n",
        "\n",
        "CHROM_LENGTH = 5\n",
        "POP_SIZE = 4\n",
        "CROSS_RATE = 0.8\n",
        "MUT_RATE = 0.1\n",
        "\n",
        "def fitness(x):\n",
        "    return x**2\n",
        "\n",
        "def encode(x):\n",
        "    return format(x, f'0{CHROM_LENGTH}b')\n",
        "\n",
        "def decode(b):\n",
        "    return int(b, 2)\n",
        "\n",
        "def roulette_selection(pop, fitnesses):\n",
        "    total_fit = sum(fitnesses)\n",
        "    pick = random.uniform(0, total_fit)\n",
        "    current = 0\n",
        "    for i, f in enumerate(fitnesses):\n",
        "        current += f\n",
        "        if current > pick:\n",
        "            return pop[i]\n",
        "    return pop[-1]\n",
        "\n",
        "def crossover(p1, p2):\n",
        "    if random.random() < CROSS_RATE:\n",
        "        point = random.randint(1, CHROM_LENGTH-1)\n",
        "        c1 = p1[:point] + p2[point:]\n",
        "        c2 = p2[:point] + p1[point:]\n",
        "        return c1, c2\n",
        "    return p1, p2\n",
        "\n",
        "def mutate(chrom):\n",
        "    chrom_list = list(chrom)\n",
        "    for i in range(CHROM_LENGTH):\n",
        "        if random.random() < MUT_RATE:\n",
        "            chrom_list[i] = '1' if chrom_list[i] == '0' else '0'\n",
        "    return ''.join(chrom_list)\n",
        "\n",
        "def genetic_algorithm():\n",
        "    population = [encode(x) for x in [12, 23, 5, 19]]\n",
        "    print(\"Initial Population:\", population, [decode(c) for c in population])\n",
        "\n",
        "    for gen in range(1, 11):\n",
        "        decoded = [decode(c) for c in population]\n",
        "        fitnesses = [fitness(x) for x in decoded]\n",
        "\n",
        "        total_fit = sum(fitnesses)\n",
        "        probs = [f/total_fit for f in fitnesses]\n",
        "        expected = [p*POP_SIZE for p in probs]\n",
        "\n",
        "        print(f\"\\nGeneration {gen}\")\n",
        "        for i in range(POP_SIZE):\n",
        "            print(f\"x={decoded[i]}, bin={population[i]}, fit={fitnesses[i]}, \"\n",
        "                  f\"prob={probs[i]:.3f}, exp_count={expected[i]:.2f}\")\n",
        "\n",
        "        new_pop = []\n",
        "        while len(new_pop) < POP_SIZE:\n",
        "            p1 = roulette_selection(population, fitnesses)\n",
        "            p2 = roulette_selection(population, fitnesses)\n",
        "            c1, c2 = crossover(p1, p2)\n",
        "            c1, c2 = mutate(c1), mutate(c2)\n",
        "            new_pop.extend([c1, c2])\n",
        "\n",
        "        population = new_pop[:POP_SIZE]\n",
        "\n",
        "    decoded = [decode(c) for c in population]\n",
        "    fitnesses = [fitness(x) for x in decoded]\n",
        "    best_idx = fitnesses.index(max(fitnesses))\n",
        "    print(\"\\nFinal Best Solution:\", decoded[best_idx], population[best_idx], \"fitness=\", fitnesses[best_idx])\n",
        "\n",
        "genetic_algorithm()\n",
        ""
      ]
    },
    {
      "cell_type": "code",
      "source": [],
      "metadata": {
        "id": "4SAPtYB1Rfa4"
      },
      "execution_count": null,
      "outputs": []
    }
  ]
}