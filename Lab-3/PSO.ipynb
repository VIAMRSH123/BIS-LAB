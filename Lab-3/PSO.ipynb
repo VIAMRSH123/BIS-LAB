{
  "nbformat": 4,
  "nbformat_minor": 0,
  "metadata": {
    "colab": {
      "provenance": [],
      "authorship_tag": "ABX9TyNVKyswHKcptUAYat6IxH3G",
      "include_colab_link": true
    },
    "kernelspec": {
      "name": "python3",
      "display_name": "Python 3"
    },
    "language_info": {
      "name": "python"
    }
  },
  "cells": [
    {
      "cell_type": "markdown",
      "metadata": {
        "id": "view-in-github",
        "colab_type": "text"
      },
      "source": [
        "<a href=\"https://colab.research.google.com/github/VIAMRSH123/BIS-LAB/blob/main/Lab-3/PSO.ipynb\" target=\"_parent\"><img src=\"https://colab.research.google.com/assets/colab-badge.svg\" alt=\"Open In Colab\"/></a>"
      ]
    },
    {
      "cell_type": "code",
      "execution_count": null,
      "metadata": {
        "id": "mRvOStdJxngM"
      },
      "outputs": [],
      "source": [
        "import random\n",
        "\n",
        "def profit_function(x):\n",
        "    return -0.5 * (x**2) + 20 * x - 30\n",
        "\n",
        "class Particle:\n",
        "    def __init__(self, lower_bound, upper_bound):\n",
        "        self.position = random.uniform(lower_bound, upper_bound)\n",
        "        self.velocity = random.uniform(-1, 1)\n",
        "        self.pbest_position = self.position\n",
        "        self.pbest_value = profit_function(self.position)\n",
        "\n",
        "class PSO:\n",
        "    def __call__(self, num_particles=10, max_iterations=20, lower_bound=0, upper_bound=50, w=0.5, c1=1.5, c2=1.5):\n",
        "        swarm = [Particle(lower_bound, upper_bound) for _ in range(num_particles)]\n",
        "        gbest_position = swarm[0].position\n",
        "        gbest_value = swarm[0].pbest_value\n",
        "\n",
        "        for particle in swarm:\n",
        "            if particle.pbest_value > gbest_value:\n",
        "                gbest_value = particle.pbest_value\n",
        "                gbest_position = particle.pbest_position\n",
        "\n",
        "        for iteration in range(max_iterations):\n",
        "            for particle in swarm:\n",
        "                profit = profit_function(particle.position)\n",
        "                if profit > particle.pbest_value:\n",
        "                    particle.pbest_value = profit\n",
        "                    particle.pbest_position = particle.position\n",
        "                if profit > gbest_value:\n",
        "                    gbest_value = profit\n",
        "                    gbest_position = particle.position\n",
        "\n",
        "            for particle in swarm:\n",
        "                r1 = random.random()\n",
        "                r2 = random.random()\n",
        "                particle.velocity = (\n",
        "                    w * particle.velocity\n",
        "                    + c1 * r1 * (particle.pbest_position - particle.position)\n",
        "                    + c2 * r2 * (gbest_position - particle.position)\n",
        "                )\n",
        "                particle.position = particle.position + particle.velocity\n",
        "                if particle.position < lower_bound:\n",
        "                    particle.position = lower_bound\n",
        "                if particle.position > upper_bound:\n",
        "                    particle.position = upper_bound\n",
        "\n",
        "            print(f\"Iteration {iteration+1}: Best Workforce Size = {gbest_position:.2f}, Profit = {gbest_value:.2f}\")\n",
        "\n",
        "        return gbest_position, gbest_value\n",
        "\n",
        "if __name__ == \"__main__\":\n",
        "    best_pos, best_val = PSO()()\n",
        "    print(\"\\nFinal Result:\")\n",
        "    print(f\"Optimal Workforce Size: {best_pos:.2f}, Maximum Profit: {best_val:.2f}\")\n"
      ]
    }
  ]
}