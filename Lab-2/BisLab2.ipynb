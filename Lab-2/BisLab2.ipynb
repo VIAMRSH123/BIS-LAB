{
  "nbformat": 4,
  "nbformat_minor": 0,
  "metadata": {
    "colab": {
      "provenance": [],
      "authorship_tag": "ABX9TyPuUhveuwAuTxj+Niqh0xvU",
      "include_colab_link": true
    },
    "kernelspec": {
      "name": "python3",
      "display_name": "Python 3"
    },
    "language_info": {
      "name": "python"
    }
  },
  "cells": [
    {
      "cell_type": "markdown",
      "metadata": {
        "id": "view-in-github",
        "colab_type": "text"
      },
      "source": [
        "<a href=\"https://colab.research.google.com/github/VIAMRSH123/BIS-LAB/blob/main/Lab-2/BisLab2.ipynb\" target=\"_parent\"><img src=\"https://colab.research.google.com/assets/colab-badge.svg\" alt=\"Open In Colab\"/></a>"
      ]
    },
    {
      "cell_type": "markdown",
      "source": [
        "Gene Expression"
      ],
      "metadata": {
        "id": "jWTWhyz9Yi80"
      }
    },
    {
      "cell_type": "code",
      "source": [
        "import random\n",
        "import math\n",
        "\n",
        "CHROM_LENGTH = 5\n",
        "POP_SIZE = 4\n",
        "CROSS_RATE = 0.8\n",
        "MUT_RATE = 0.1\n",
        "GENERATIONS = 2\n",
        "\n",
        "def fitness(x):\n",
        "    return x**3 - 4*(x**2) + 2*x + 7*math.sin(x)\n",
        "\n",
        "def encode(x):\n",
        "    return format(x, f'0{CHROM_LENGTH}b')\n",
        "\n",
        "def decode(b):\n",
        "    return int(b, 2)\n",
        "\n",
        "def gene_expression(chrom):\n",
        "    return decode(chrom)\n",
        "\n",
        "def roulette_selection(pop, fitnesses):\n",
        "    total_fit = sum(fitnesses)\n",
        "    pick = random.uniform(0, total_fit)\n",
        "    current = 0\n",
        "    for i, f in enumerate(fitnesses):\n",
        "        current += f\n",
        "        if current > pick:\n",
        "            return pop[i]\n",
        "    return pop[-1]\n",
        "\n",
        "def crossover(p1, p2):\n",
        "    if random.random() < CROSS_RATE:\n",
        "        point = random.randint(1, CHROM_LENGTH - 1)\n",
        "        c1 = p1[:point] + p2[point:]\n",
        "        c2 = p2[:point] + p1[point:]\n",
        "        return c1, c2\n",
        "    return p1, p2\n",
        "\n",
        "def mutate(chrom):\n",
        "    chrom_list = list(chrom)\n",
        "    for i in range(CHROM_LENGTH):\n",
        "        if random.random() < MUT_RATE:\n",
        "            chrom_list[i] = '1' if chrom_list[i] == '0' else '0'\n",
        "    return ''.join(chrom_list)\n",
        "\n",
        "def gene_expression_algorithm():\n",
        "    population = [encode(x) for x in [12, 23, 5, 19]]\n",
        "    print(\"Initial Population:\", population, [decode(c) for c in population])\n",
        "\n",
        "    for gen in range(1, GENERATIONS + 1):\n",
        "        expressed = [gene_expression(c) for c in population]\n",
        "        fitnesses = [fitness(x) for x in expressed]\n",
        "\n",
        "        total_fit = sum(fitnesses)\n",
        "        probs = [f / total_fit for f in fitnesses]\n",
        "        expected = [p * POP_SIZE for p in probs]\n",
        "\n",
        "        print(f\"\\nGeneration {gen}\")\n",
        "        for i in range(POP_SIZE):\n",
        "            print(f\"x={expressed[i]}, bin={population[i]}, fit={fitnesses[i]}, \"\n",
        "                  f\"prob={probs[i]:.3f}, exp_count={expected[i]:.2f}\")\n",
        "\n",
        "        new_pop = []\n",
        "        while len(new_pop) < POP_SIZE:\n",
        "            p1 = roulette_selection(population, fitnesses)\n",
        "            p2 = roulette_selection(population, fitnesses)\n",
        "            c1, c2 = crossover(p1, p2)\n",
        "            c1, c2 = mutate(c1), mutate(c2)\n",
        "            new_pop.extend([c1, c2])\n",
        "\n",
        "        population = new_pop[:POP_SIZE]\n",
        "\n",
        "    expressed = [gene_expression(c) for c in population]\n",
        "    fitnesses = [fitness(x) for x in expressed]\n",
        "    best_idx = fitnesses.index(max(fitnesses))\n",
        "    print(\"\\nFinal Best Solution:\", expressed[best_idx], population[best_idx], \"fitness=\", fitnesses[best_idx])\n",
        "\n",
        "gene_expression_algorithm()"
      ],
      "metadata": {
        "colab": {
          "base_uri": "https://localhost:8080/"
        },
        "id": "lCgMB57sYqP0",
        "outputId": "59bf9818-d54c-4076-ce89-6d963f9c5a13"
      },
      "execution_count": 1,
      "outputs": [
        {
          "output_type": "stream",
          "name": "stdout",
          "text": [
            "Initial Population: ['01100', '10111', '00101', '10011'] [12, 23, 5, 19]\n",
            "\n",
            "Generation 1\n",
            "x=12, bin=01100, fit=1172.243989573997, prob=0.070, exp_count=0.28\n",
            "x=23, bin=10111, fit=10091.076457170773, prob=0.603, exp_count=2.41\n",
            "x=5, bin=00101, fit=28.28753007735803, prob=0.002, exp_count=0.01\n",
            "x=19, bin=10011, fit=5454.04914046764, prob=0.326, exp_count=1.30\n",
            "\n",
            "Generation 2\n",
            "x=21, bin=10101, fit=7544.856589469752, prob=0.405, exp_count=1.62\n",
            "x=17, bin=10001, fit=3784.270217556843, prob=0.203, exp_count=0.81\n",
            "x=20, bin=10100, fit=6446.390616755093, prob=0.346, exp_count=1.38\n",
            "x=11, bin=01011, fit=862.0000685541451, prob=0.046, exp_count=0.19\n",
            "\n",
            "Final Best Solution: 31 11111 fitness= 26006.17173648274\n"
          ]
        }
      ]
    }
  ]
}