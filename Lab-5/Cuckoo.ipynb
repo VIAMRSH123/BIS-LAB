{
  "nbformat": 4,
  "nbformat_minor": 0,
  "metadata": {
    "colab": {
      "provenance": [],
      "authorship_tag": "ABX9TyMtZV1bIVdiZ4ISAuSHUSDF",
      "include_colab_link": true
    },
    "kernelspec": {
      "name": "python3",
      "display_name": "Python 3"
    },
    "language_info": {
      "name": "python"
    }
  },
  "cells": [
    {
      "cell_type": "markdown",
      "metadata": {
        "id": "view-in-github",
        "colab_type": "text"
      },
      "source": [
        "<a href=\"https://colab.research.google.com/github/VIAMRSH123/BIS-LAB/blob/main/Lab-5/Cuckoo.ipynb\" target=\"_parent\"><img src=\"https://colab.research.google.com/assets/colab-badge.svg\" alt=\"Open In Colab\"/></a>"
      ]
    },
    {
      "cell_type": "code",
      "source": [
        "Knapsack Solved By Cuckoo Algorithm"
      ],
      "metadata": {
        "id": "qj6U6i7W82sp"
      },
      "execution_count": null,
      "outputs": []
    },
    {
      "cell_type": "code",
      "source": [
        "import random\n",
        "import numpy as np\n",
        "\n",
        "W = 50\n",
        "weights = [10, 20, 30, 40, 50]\n",
        "values = [60, 100, 120, 140, 160]\n",
        "n_items = len(weights)\n",
        "\n",
        "num_cuckoos = 50\n",
        "max_iter = 10\n",
        "pa = 0.25\n",
        "\n",
        "cuckoos = np.random.randint(2, size=(num_cuckoos, n_items))\n",
        "\n",
        "def fitness(cuckoo):\n",
        "    total_weight = sum(cuckoo[i] * weights[i] for i in range(n_items))\n",
        "    total_value = sum(cuckoo[i] * values[i] for i in range(n_items))\n",
        "    if total_weight > W:\n",
        "        return 0\n",
        "    return total_value\n",
        "\n",
        "def levy_flight(cuckoo, alpha=1.0):\n",
        "    step_size = np.random.normal(0, 1, size=cuckoo.shape)\n",
        "    new_cuckoo = cuckoo + alpha * step_size\n",
        "    new_cuckoo = np.clip(new_cuckoo, 0, 1)\n",
        "    return np.round(new_cuckoo)\n",
        "\n",
        "for iteration in range(max_iter):\n",
        "    fitness_values = np.array([fitness(cuckoo) for cuckoo in cuckoos])\n",
        "    best_index = np.argmax(fitness_values)\n",
        "    best_cuckoo = cuckoos[best_index]\n",
        "    best_fitness = fitness_values[best_index]\n",
        "\n",
        "    for i in range(num_cuckoos):\n",
        "        if random.random() > pa:\n",
        "            cuckoos[i] = levy_flight(cuckoos[i])\n",
        "\n",
        "    new_fitness_values = np.array([fitness(cuckoo) for cuckoo in cuckoos])\n",
        "\n",
        "    for i in range(num_cuckoos):\n",
        "        if new_fitness_values[i] > fitness_values[i]:\n",
        "            cuckoos[i] = cuckoos[i]\n",
        "\n",
        "    print(f\"Iteration {iteration+1}: Best Fitness = {best_fitness}\")\n",
        "\n",
        "best_solution = best_cuckoo\n",
        "selected_items = [i for i in range(n_items) if best_solution[i] == 1]\n",
        "selected_values = [values[i] for i in selected_items]\n",
        "selected_weights = [weights[i] for i in selected_items]\n",
        "\n",
        "print(\"\\nBest Solution:\")\n",
        "print(\"Selected Items:\", selected_items)\n",
        "print(\"Selected Values:\", selected_values)\n",
        "print(\"Selected Weights:\", selected_weights)\n",
        "print(\"Total Weight:\", sum(selected_weights))\n",
        "print(\"Total Value:\", sum(selected_values))\n",
        "print(\"Best Fitness Value:\", best_fitness)"
      ],
      "metadata": {
        "colab": {
          "base_uri": "https://localhost:8080/"
        },
        "id": "PyOe-Kc588wi",
        "outputId": "2e14f7fc-71c1-4938-94b0-f7ba5039ad47"
      },
      "execution_count": 2,
      "outputs": [
        {
          "output_type": "stream",
          "name": "stdout",
          "text": [
            "Iteration 1: Best Fitness = 220\n",
            "Iteration 2: Best Fitness = 220\n",
            "Iteration 3: Best Fitness = 220\n",
            "Iteration 4: Best Fitness = 220\n",
            "Iteration 5: Best Fitness = 220\n",
            "Iteration 6: Best Fitness = 220\n",
            "Iteration 7: Best Fitness = 220\n",
            "Iteration 8: Best Fitness = 220\n",
            "Iteration 9: Best Fitness = 220\n",
            "Iteration 10: Best Fitness = 200\n",
            "\n",
            "Best Solution:\n",
            "Selected Items: [0, 3, 4]\n",
            "Selected Values: [60, 140, 160]\n",
            "Selected Weights: [10, 40, 50]\n",
            "Total Weight: 100\n",
            "Total Value: 360\n",
            "Best Fitness Value: 200\n"
          ]
        }
      ]
    },
    {
      "cell_type": "markdown",
      "source": [],
      "metadata": {
        "id": "y919aPL082PK"
      }
    }
  ]
}